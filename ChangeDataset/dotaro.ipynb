{
 "cells": [
  {
   "cell_type": "code",
   "execution_count": null,
   "outputs": [],
   "source": [
    "#after images were cut:\n",
    "# Remove empty images\n",
    "import os\n",
    "import shutil\n",
    "\n",
    "in_file =  'output/dotasplit/val/rest_out/'\n",
    "out_file = 'output/dotasplit/val/rest_through/'\n",
    "\n",
    "\n",
    "for file in os.listdir(in_file+'labelTxt'):\n",
    "    file_id = file.split('.')[0]\n",
    "    if os.stat(os.path.join(in_file,'labelTxt',file)).st_size != 0:\n",
    "        file_path = os.path.abspath(os.path.join(in_file,'images',f'{file_id}.png'))\n",
    "        file_newpath = os.path.abspath(os.path.join(out_file,'images',f'{file_id}.png'))\n",
    "        shutil.copyfile(file_path, file_newpath)\n",
    "        label_path = os.path.abspath(os.path.join(in_file,'labelTxt',f'{file_id}.txt'))\n",
    "        label_newpath = os.path.abspath(os.path.join(out_file,'labelTxt',f'{file_id}.txt'))\n",
    "        shutil.copyfile(label_path, label_newpath)\n",
    "\n",
    "\n",
    "print(\"Dn\")\n",
    "\n",
    "\n"
   ],
   "metadata": {
    "collapsed": false,
    "pycharm": {
     "name": "#%%\n"
    }
   }
  },
  {
   "cell_type": "code",
   "execution_count": null,
   "outputs": [],
   "source": [
    "# Rename yolo labels dowlnoaded from the Roboflow\n",
    "import os\n",
    "\n",
    "dir_in = 'output/dotasplit/val/rest_through/labelTxt/'\n",
    "dir_img = 'output/dotasplit/val/rest_through/images/'\n",
    "\n",
    "visited = []\n",
    "img_visited = []\n",
    "letters = ['b','c','d','e','f','g','h','i','j','k','l','m','n','o','q','p','r','s','t','u','v','w','x','y','z','alfa','beta','gamma','delta','elipson','zeta','eta','theta','jota','kappa','lambda','mu','nu','xi','omicron','pi','ro','sigma','tau','ypsilon','fi','chi','psi','omega']\n",
    "\n",
    "\n",
    "def get_new_name(dir, file,name,end,visit):\n",
    "    for l in letters:\n",
    "        new_name = name + l\n",
    "        if new_name in visit:\n",
    "            continue\n",
    "        else:\n",
    "            os.rename(dir + file, dir + new_name + end)\n",
    "            visit.append(new_name)\n",
    "            return 0\n",
    "    return 1\n",
    "\n",
    "#Labels\n",
    "end = '.txt'\n",
    "labels = os.listdir(dir_in)\n",
    "for file in os.listdir(dir_in):\n",
    "    if '__' in file:\n",
    "        name = file.split('__')[0]\n",
    "    else:\n",
    "        name = file.split(end)[0]\n",
    "        visited.append(name)\n",
    "        continue\n",
    "\n",
    "    r = get_new_name(dir_in,file,name,end,visited)\n",
    "    if r == 1:\n",
    "        print(\"To few letters\")\n",
    "\n",
    "# Images:\n",
    "imgend = '.png'\n",
    "for label in labels:\n",
    "    file = label.split(end)[0] + imgend\n",
    "    if '__' in file:\n",
    "        name = file.split('__')[0]\n",
    "    else:\n",
    "        name = file.split(imgend)[0]\n",
    "        visited.append(name)\n",
    "        continue\n",
    "\n",
    "\n",
    "    r = get_new_name(dir_img,file,name,imgend,img_visited)\n",
    "    if r == 1:\n",
    "        print(\"To few letters\")\n",
    "\n",
    "print(\"Done\")\n"
   ],
   "metadata": {
    "collapsed": false,
    "pycharm": {
     "name": "#%%\n"
    }
   }
  },
  {
   "cell_type": "code",
   "execution_count": null,
   "outputs": [],
   "source": [
    "#(compress images)\n",
    "# change to jpg"
   ],
   "metadata": {
    "collapsed": false,
    "pycharm": {
     "name": "#%%\n"
    }
   }
  },
  {
   "cell_type": "code",
   "execution_count": null,
   "outputs": [],
   "source": [
    "# Convert Dota dataset to the Coco\n",
    "import os\n",
    "from DotaTools.DOTA2COCO import dota2coco\n",
    "\n",
    "dota_path = 'output/dotasplit/val/done/'\n",
    "output_path = 'output/dotasplit/val/done/true_labels/'\n",
    "\n",
    "## Create a new directories\n",
    "#if not os.path.exists(output_path+'/in'):\n",
    "#   os.makedirs(output_path+'/in')\n",
    "#\n",
    "## Create a new directories\n",
    "#if not os.path.exists(output_path+'/out'):\n",
    "#   os.makedirs(output_path+'/out')\n",
    "\n",
    "dota2coco(srcpath_img=dota_path+'images', srcpath_labels=output_path+'remap_labels',out_json=output_path+'segments_coco.json',end='.png')\n"
   ],
   "metadata": {
    "collapsed": false,
    "pycharm": {
     "name": "#%%\n"
    }
   }
  },
  {
   "cell_type": "code",
   "execution_count": null,
   "outputs": [],
   "source": [
    "## Script convert Coco to Yolo:\n",
    "import os\n",
    "from JSON2YOLO.general_json2yolo import coco_to_yolo\n",
    "train_coco_path = 'output/dotasplit/val/done/true_labels/segments_coco.json'\n",
    "output_train_path = 'output/dotasplit/val/done/true_labels/yolo'\n",
    "\n",
    "# Create a new directories\n",
    "if not os.path.exists(output_train_path):\n",
    "   os.makedirs(output_train_path)\n",
    "\n",
    "coco_to_yolo(train_coco_path,output_train_path)"
   ],
   "metadata": {
    "collapsed": false,
    "pycharm": {
     "name": "#%%\n"
    }
   }
  },
  {
   "cell_type": "code",
   "execution_count": null,
   "outputs": [],
   "source": [
    "## Script convert Yolo to Coco:\n",
    "import globox\n",
    "yolo = globox.AnnotationSet.from_yolo_v5(\n",
    "    folder=\"output/dotasplit/val/done/combi/yolo\",\n",
    "    image_folder=\"output/dotasplit/val/done/combi/images\"\n",
    ")\n",
    "yolo.save_coco(path='output/dotasplit/val/done/combi/coco.json',label_to_id={'0':1,'1':2, '2':3, '3':4, '4':5},imageid_to_id = {key: value for key, value in zip(yolo.image_ids,\n",
    " [r for r in range(0,len(yolo.image_ids))])  })\n",
    "\n",
    "import json\n",
    "def fix_categories(file,out):\n",
    "    with open(file,\"r\") as f:\n",
    "        data = json.load(f)\n",
    "    new_data = {}\n",
    "    new_data['info'] =   {\n",
    "    \"year\": \"2023\",\n",
    "    \"version\": \"1\",\n",
    "    \"description\": \"Created using globox\",\n",
    "    \"contributor\": \"atm\",\n",
    "    },\n",
    "    new_data['licenses'] =  [\n",
    "    {\n",
    "        \"id\": 1,\n",
    "        \"url\": \"https://creativecommons.org/licenses/by/4.0/\",\n",
    "        \"name\": \"CC BY 4.0\"\n",
    "    }\n",
    "    ]\n",
    "    new_data['categories'] = [\n",
    "    {\n",
    "        \"id\": 1,\n",
    "        \"name\": \"airport\",\n",
    "        \"supercategory\": \"objects\"\n",
    "    },\n",
    "    {\n",
    "        \"id\": 2,\n",
    "        \"name\": \"helicopter\",\n",
    "        \"supercategory\": \"objects\"\n",
    "    },\n",
    "    {\n",
    "        \"id\": 3,\n",
    "        \"name\": \"oiltank\",\n",
    "        \"supercategory\": \"objects\"\n",
    "    },\n",
    "    {\n",
    "        \"id\": 4,\n",
    "        \"name\": \"plane\",\n",
    "        \"supercategory\": \"objects\"\n",
    "    },\n",
    "    {\n",
    "        \"id\": 5,\n",
    "        \"name\": \"warship\",\n",
    "        \"supercategory\": \"objects\"\n",
    "    }\n",
    "    ]\n",
    "    new_data['images'] = data['images']\n",
    "    new_data['annotations'] = data['annotations']\n",
    "    with open(out,'w') as fout:\n",
    "        json.dump(new_data, fout , indent=4)\n",
    "\n",
    "fix_categories('output/dotasplit/val/done/combi/coco.json','output/dotasplit/val/done/combi/coco.json')\n"
   ],
   "metadata": {
    "collapsed": false,
    "pycharm": {
     "name": "#%%\n"
    }
   }
  },
  {
   "cell_type": "code",
   "execution_count": null,
   "outputs": [],
   "source": [
    "## Script convert Coco to voc:\n",
    "# create voc dir!\n",
    "from coco_to_voc import coco2voc\n",
    "train_coco_path = 'output/dotasplit/val/done/combi/coco.json'\n",
    "voc_train_path = 'output/dotasplit/val/done/combi/voc'\n",
    "coco2voc(train_coco_path,voc_train_path,ext='.jpg')\n"
   ],
   "metadata": {
    "collapsed": false,
    "pycharm": {
     "name": "#%%\n"
    }
   }
  },
  {
   "cell_type": "code",
   "execution_count": null,
   "outputs": [],
   "source": [
    "## Script to convert Coco to Yolified Coco\n",
    "\n",
    "from yolifycoco import yolifycoco\n",
    "\n",
    "train_coco_path = 'output/dotasplit/val/done/combi/coco.json'\n",
    "train_coco_yolo_path = 'output/dotasplit/val/done/combi/cocoyolo.json'\n",
    "yolifycoco(train_coco_path,train_coco_yolo_path)\n"
   ],
   "metadata": {
    "collapsed": false,
    "pycharm": {
     "name": "#%%\n"
    }
   }
  },
  {
   "cell_type": "code",
   "execution_count": null,
   "outputs": [],
   "source": [],
   "metadata": {
    "collapsed": false,
    "pycharm": {
     "name": "#%%\n"
    }
   }
  }
 ],
 "metadata": {
  "kernelspec": {
   "display_name": "Python 3",
   "language": "python",
   "name": "python3"
  },
  "language_info": {
   "codemirror_mode": {
    "name": "ipython",
    "version": 2
   },
   "file_extension": ".py",
   "mimetype": "text/x-python",
   "name": "python",
   "nbconvert_exporter": "python",
   "pygments_lexer": "ipython2",
   "version": "2.7.6"
  }
 },
 "nbformat": 4,
 "nbformat_minor": 0
}