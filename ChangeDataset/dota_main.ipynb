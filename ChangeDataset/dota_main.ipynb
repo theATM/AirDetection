{
 "cells": [
  {
   "cell_type": "code",
   "execution_count": null,
   "metadata": {
    "collapsed": true,
    "pycharm": {
     "name": "#%%\n"
    }
   },
   "outputs": [],
   "source": [
    "## Script to Remap Dota Labels\n",
    "import os\n",
    "dota_path = 'input/dota'\n",
    "output_path = 'output/dota'\n",
    "from DotaTools.remap_labels import remap_labels\n",
    "\n",
    "# Create a new directories\n",
    "if not os.path.exists(output_path):\n",
    "   os.makedirs(output_path)\n",
    "\n",
    "val_labels_path = dota_path + '/val/org_labels'\n",
    "val_labels_outpath = output_path + '/val/dota_labels'\n",
    "if not os.path.exists(val_labels_outpath):\n",
    "    os.makedirs(val_labels_outpath)\n",
    "\n",
    "train_labels_path = dota_path + '/train/org_labels'\n",
    "train_labels_outpath = output_path + '/train/dota_labels'\n",
    "if not os.path.exists(train_labels_outpath):\n",
    "    os.makedirs(train_labels_outpath)\n",
    "\n",
    "remap_labels(val_labels_path,val_labels_outpath)\n",
    "remap_labels(train_labels_path,train_labels_outpath)\n",
    "\n"
   ]
  },
  {
   "cell_type": "code",
   "execution_count": null,
   "outputs": [],
   "source": [
    "# Convert Dota dataset to the Coco\n",
    "import os\n",
    "from DotaTools.DOTA2COCO import dota2coco\n",
    "\n",
    "dota_path = 'input/dota'\n",
    "output_path = 'output/dota'\n",
    "\n",
    "# Create a new directories\n",
    "if not os.path.exists(output_path):\n",
    "   os.makedirs(output_path)\n",
    "\n",
    "# Create a new directories\n",
    "if not os.path.exists(output_path+'/train'):\n",
    "   os.makedirs(output_path+'/train')\n",
    "\n",
    "# Create a new directories\n",
    "if not os.path.exists(output_path+'/val'):\n",
    "   os.makedirs(output_path+'/val')\n",
    "\n",
    "dota2coco(srcpath_img=dota_path+'/train/images', srcpath_labels=output_path+'/train/dota_labels',out_json=output_path+'/train/labels_coco.json')\n",
    "dota2coco(srcpath_img=dota_path+'/val/images', srcpath_labels= output_path+'/val/dota_labels',out_json=output_path+'/val/labels_coco.json')\n"
   ],
   "metadata": {
    "collapsed": false,
    "pycharm": {
     "name": "#%%\n"
    }
   }
  },
  {
   "cell_type": "code",
   "execution_count": null,
   "outputs": [],
   "source": [
    "## Script convert Coco to Yolo:\n",
    "import os\n",
    "from JSON2YOLO.general_json2yolo import coco_to_yolo\n",
    "train_coco_path = 'output/dota/train/labels_coco.json'\n",
    "val_coco_path = 'output/dota/val/labels_coco.json'\n",
    "output_train_path = 'output/dota/train/yolo'\n",
    "output_val_path = 'output/dota/val/yolo'\n",
    "\n",
    "# Create a new directories\n",
    "if not os.path.exists(output_train_path):\n",
    "   os.makedirs(output_train_path)\n",
    "if not os.path.exists(output_val_path):\n",
    "   os.makedirs(output_val_path)\n",
    "\n",
    "coco_to_yolo(train_coco_path,output_train_path)\n",
    "coco_to_yolo(val_coco_path,output_val_path)"
   ],
   "metadata": {
    "collapsed": false,
    "pycharm": {
     "name": "#%%\n"
    }
   }
  },
  {
   "cell_type": "code",
   "execution_count": null,
   "outputs": [],
   "source": [
    "## Script convert Coco to voc:\n",
    "from coco_to_voc import coco2voc\n",
    "train_coco_path = 'output/dota/train/labels_coco.json'\n",
    "val_coco_path = 'output/dota/val/labels_coco.json'\n",
    "voc_train_path = 'output/dota/train/voc'\n",
    "voc_val_path = 'output/dota/val/voc'\n",
    "coco2voc(train_coco_path,voc_train_path)\n",
    "coco2voc(val_coco_path,voc_val_path)"
   ],
   "metadata": {
    "collapsed": false,
    "pycharm": {
     "name": "#%%\n"
    }
   }
  },
  {
   "cell_type": "code",
   "execution_count": null,
   "outputs": [],
   "source": [
    "## Script to convert Coco to Yolified Coco\n",
    "\n",
    "from yolifycoco import yolifycocodota\n",
    "\n",
    "train_coco_path = 'output/dota/train/labels_coco.json'\n",
    "val_coco_path = 'output/dota/val/labels_coco.json'\n",
    "\n",
    "train_coco_yolo_path = 'output/dota/train/labels_cocoyolo.json'\n",
    "val_coco_yolo_path = 'output/dota/val/labels_cocoyolo.json'\n",
    "\n",
    "yolifycocodota(train_coco_path,train_coco_yolo_path)\n",
    "yolifycocodota(val_coco_path,val_coco_yolo_path)"
   ],
   "metadata": {
    "collapsed": false,
    "pycharm": {
     "name": "#%%\n"
    }
   }
  },
  {
   "cell_type": "code",
   "execution_count": null,
   "outputs": [],
   "source": [],
   "metadata": {
    "collapsed": false,
    "pycharm": {
     "name": "#%%\n"
    }
   }
  }
 ],
 "metadata": {
  "kernelspec": {
   "display_name": "Python 3",
   "language": "python",
   "name": "python3"
  },
  "language_info": {
   "codemirror_mode": {
    "name": "ipython",
    "version": 2
   },
   "file_extension": ".py",
   "mimetype": "text/x-python",
   "name": "python",
   "nbconvert_exporter": "python",
   "pygments_lexer": "ipython2",
   "version": "2.7.6"
  }
 },
 "nbformat": 4,
 "nbformat_minor": 0
}