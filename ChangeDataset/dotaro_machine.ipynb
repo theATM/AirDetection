{
 "cells": [
  {
   "cell_type": "code",
   "execution_count": null,
   "metadata": {
    "collapsed": true,
    "pycharm": {
     "name": "#%%\n"
    }
   },
   "outputs": [],
   "source": [
    "# Create dotaro cut up dataset from DOTA\n",
    "# Prepare Dota\n",
    "input_dir = 'output/dotain/'"
   ]
  },
  {
   "cell_type": "code",
   "execution_count": null,
   "outputs": [],
   "source": [
    "from DotaTools.ImgSplit import splitbase\n",
    "# First CUT the images\n",
    "split = splitbase(input_dir +'val/rest',\n",
    "                  input_dir +'val/rest_out', thresh = 0.33)\n",
    "split.splitdata(1)\n",
    "split = splitbase(input_dir +'train/rest',\n",
    "                  input_dir +'train/rest_out', thresh = 0.33)\n",
    "split.splitdata(1)\n",
    "print(\"Dn\")"
   ],
   "metadata": {
    "collapsed": false,
    "pycharm": {
     "name": "#%%\n"
    }
   }
  },
  {
   "cell_type": "code",
   "execution_count": null,
   "outputs": [],
   "source": [
    "# After images were cut:\n",
    "# Remove empty images\n",
    "import os\n",
    "import shutil\n",
    "\n",
    "if not os.path.exists(input_dir+'train/rest_through/images'):\n",
    "    os.makedirs(input_dir+'train/rest_through/images')\n",
    "if not os.path.exists(input_dir+'val/rest_through/images'):\n",
    "    os.makedirs(input_dir+'val/rest_through/images')\n",
    "if not os.path.exists(input_dir+'train/rest_through/labelTxt'):\n",
    "    os.makedirs(input_dir+'train/rest_through/labelTxt')\n",
    "if not os.path.exists(input_dir+'val/rest_through/labelTxt'):\n",
    "    os.makedirs(input_dir+'val/rest_through/labelTxt')\n",
    "\n",
    "\n",
    "def cut_empty(in_file,out_file):\n",
    "    for file in os.listdir(in_file+'labelTxt'):\n",
    "        file_id = file.split('.')[0]\n",
    "        if os.stat(os.path.join(in_file,'labelTxt',file)).st_size != 0:\n",
    "            file_path = os.path.abspath(os.path.join(in_file,'images',f'{file_id}.png'))\n",
    "            file_newpath = os.path.abspath(os.path.join(out_file,'images',f'{file_id}.png'))\n",
    "            shutil.copyfile(file_path, file_newpath)\n",
    "            label_path = os.path.abspath(os.path.join(in_file,'labelTxt',f'{file_id}.txt'))\n",
    "            label_newpath = os.path.abspath(os.path.join(out_file,'labelTxt',f'{file_id}.txt'))\n",
    "            shutil.copyfile(label_path, label_newpath)\n",
    "\n",
    "cut_empty(input_dir+'train/rest_out/',input_dir+'train/rest_through/')\n",
    "cut_empty(input_dir+'val/rest_out/',input_dir+'val/rest_through/')\n",
    "print(\"Dn\")"
   ],
   "metadata": {
    "collapsed": false,
    "pycharm": {
     "name": "#%%\n"
    }
   }
  },
  {
   "cell_type": "code",
   "execution_count": null,
   "outputs": [],
   "source": [
    "# Rename images\n",
    "import os\n",
    "\n",
    "def rename_images(dir_in,dir_img):\n",
    "    visited = []\n",
    "    img_visited = []\n",
    "    letters = ['b','c','d','e','f','g','h','i','j','k','l','m','n','o','q','p','r','s','t','u','v','w','x','y','z','alfa','beta','gamma','delta','elipson','zeta','eta','theta','jota','kappa','lambda','mu','nu','xi','omicron','pi','ro','sigma','tau','ypsilon','fi','chi','psi','omega','alep','bet','gimi','dalet','he','waw','zayin','het','tet','yod','kap','lamed','mem','nun','samek','ayin','pe','sade','qop','res','sin','taw']\n",
    "\n",
    "    def get_new_name(dir, file,name,end,visit):\n",
    "        for l in letters:\n",
    "            new_name = name + l\n",
    "            if new_name in visit:\n",
    "                continue\n",
    "            else:\n",
    "                os.rename(dir + file, dir + new_name + end)\n",
    "                visit.append(new_name)\n",
    "                return 0\n",
    "        return 1\n",
    "    #Labels\n",
    "    end = '.txt'\n",
    "    labels = os.listdir(dir_in)\n",
    "    for file in os.listdir(dir_in):\n",
    "        if '__' in file:\n",
    "            name = file.split('__')[0]\n",
    "        else:\n",
    "            name = file.split(end)[0]\n",
    "            visited.append(name)\n",
    "            continue\n",
    "        r = get_new_name(dir_in,file,name,end,visited)\n",
    "        if r == 1:\n",
    "            print(\"To few letters\")\n",
    "    # Images:\n",
    "    imgend = '.png'\n",
    "    for label in labels:\n",
    "        file = label.split(end)[0] + imgend\n",
    "        if '__' in file:\n",
    "            name = file.split('__')[0]\n",
    "        else:\n",
    "            name = file.split(imgend)[0]\n",
    "            visited.append(name)\n",
    "            continue\n",
    "        r = get_new_name(dir_img,file,name,imgend,img_visited)\n",
    "        if r == 1:\n",
    "            print(\"To few letters\")\n",
    "\n",
    "rename_images(input_dir+'train/rest_through/labelTxt/',input_dir+'train/rest_through/images/')\n",
    "rename_images(input_dir+'val/rest_through/labelTxt/',input_dir+'val/rest_through/images/')\n",
    "\n",
    "print(\"Done\")"
   ],
   "metadata": {
    "collapsed": false,
    "pycharm": {
     "name": "#%%\n"
    }
   }
  },
  {
   "cell_type": "code",
   "execution_count": null,
   "outputs": [],
   "source": [
    "def copy_files(f_in,f_out):\n",
    "    if not os.path.exists(f_out):\n",
    "        os.makedirs(f_out)\n",
    "    fs = os.listdir(f_in)\n",
    "    for f in fs:\n",
    "        shutil.copyfile(os.path.abspath(os.path.join(f_in,f)),os.path.abspath(os.path.join(f_out,f)))\n",
    "\n",
    "def link_files(f_in,f_out):\n",
    "    if not os.path.exists(f_out):\n",
    "        os.makedirs(f_out)\n",
    "    fs = os.listdir(f_in)\n",
    "    for f in fs:\n",
    "        os.symlink(os.path.abspath(os.path.join(f_in,f)),os.path.abspath(os.path.join(f_out,f)))\n",
    "\n"
   ],
   "metadata": {
    "collapsed": false,
    "pycharm": {
     "name": "#%%\n"
    }
   }
  },
  {
   "cell_type": "code",
   "execution_count": null,
   "outputs": [],
   "source": [
    "# Add airports\n",
    "copy_files(input_dir+'train/airport/images/',input_dir+'train/rest_through/images/')\n",
    "copy_files(input_dir+'train/airport/remap_labels/',input_dir+'train/rest_through/labelTxt/')\n",
    "copy_files(input_dir+'val/airport/images/',input_dir+'val/rest_through/images/')\n",
    "copy_files(input_dir+'val/airport/remap_labels/',input_dir+'val/rest_through/labelTxt/')\n",
    "print(\"Done\")"
   ],
   "metadata": {
    "collapsed": false,
    "pycharm": {
     "name": "#%%\n"
    }
   }
  },
  {
   "cell_type": "code",
   "execution_count": null,
   "outputs": [],
   "source": [
    "# Compress Images:\n",
    "import os\n",
    "import shutil\n",
    "def compress_images(dir_in,dir_out):\n",
    "    if not os.path.exists(dir_out):\n",
    "        os.makedirs(dir_out)\n",
    "    command = 'for file in '+ dir_in +'*; do ffmpeg -i \"$file\" -vf \"scale=640:640\" \"'+ dir_out +'$(basename -- \"$file\")\"; done'\n",
    "    os.system(command)\n",
    "\n",
    "def change_end(in_dir,end_in,end_out):\n",
    "    command = f'mogrify -format {end_out} *.{end_in} -path {in_dir}'\n",
    "\n",
    "\n",
    "\n",
    "compress_images(input_dir+'train/rest_through/images/',input_dir+'train/rest_compressed/images/')\n",
    "compress_images(input_dir+'val/rest_through/images/',input_dir+'val/rest_compressed/images/')\n"
   ],
   "metadata": {
    "collapsed": false,
    "pycharm": {
     "name": "#%%\n"
    }
   }
  },
  {
   "cell_type": "code",
   "execution_count": null,
   "outputs": [],
   "source": [
    "# Change format to jpg - TODO mogrify -format jpg *.png\n",
    "#change_end(input_dir+'train/rest_through/images/','png','jpg')\n",
    "#change_end(input_dir+'val/rest_through/images/','png','jpg')"
   ],
   "metadata": {
    "collapsed": false,
    "pycharm": {
     "name": "#%%\n"
    }
   }
  },
  {
   "cell_type": "code",
   "execution_count": null,
   "outputs": [],
   "source": [
    "#Copy Labels\n",
    "copy_files(input_dir+'train/rest_through/labelTxt/',input_dir+'train/rest_compressed/labelTxt/')\n",
    "copy_files(input_dir+'val/rest_through/labelTxt/',input_dir+'val/rest_compressed/labelTxt/')"
   ],
   "metadata": {
    "collapsed": false,
    "pycharm": {
     "name": "#%%\n"
    }
   }
  },
  {
   "cell_type": "code",
   "execution_count": null,
   "outputs": [],
   "source": [
    "# Convert Dota dataset to the Coco\n",
    "import os\n",
    "from DotaTools.DOTA2COCO import dota2coco\n",
    "\n",
    "\n",
    "dota2coco(srcpath_img=input_dir+'train/rest_through/images/', srcpath_labels=input_dir+'train/rest_through/labelTxt/',out_json=input_dir+'train/rest_through/segments_coco.json',end='.png')\n",
    "dota2coco(srcpath_img=input_dir+'val/rest_through/images/', srcpath_labels=input_dir+'val/rest_through/labelTxt/',out_json=input_dir+'val/rest_through/segments_coco.json',end='.png')\n"
   ],
   "metadata": {
    "collapsed": false,
    "pycharm": {
     "name": "#%%\n"
    }
   }
  },
  {
   "cell_type": "code",
   "execution_count": null,
   "outputs": [],
   "source": [
    "## Script convert Coco to Yolo:\n",
    "import os\n",
    "from JSON2YOLO.general_json2yolo import coco_to_yolo\n",
    "\n",
    "if not os.path.exists(input_dir+'train/rest_through/yolo/'):\n",
    "   os.makedirs(input_dir+'train/rest_through/yolo/')\n",
    "if not os.path.exists(input_dir+'val/rest_through/yolo/'):\n",
    "   os.makedirs(input_dir+'val/rest_through/yolo/')\n",
    "\n",
    "coco_to_yolo(input_dir+'train/rest_through/segments_coco.json',input_dir+'train/rest_through/yolo/')\n",
    "coco_to_yolo(input_dir+'val/rest_through/segments_coco.json',input_dir+'val/rest_through/yolo/')\n"
   ],
   "metadata": {
    "collapsed": false,
    "pycharm": {
     "name": "#%%\n"
    }
   }
  },
  {
   "cell_type": "code",
   "execution_count": null,
   "outputs": [],
   "source": [
    "# Copy yolo to the comressed\n",
    "if not os.path.exists(input_dir+'train/rest_compressed/yolo/'):\n",
    "   os.makedirs(input_dir+'train/rest_compressed/yolo/')\n",
    "if not os.path.exists(input_dir+'val/rest_compressed/yolo/'):\n",
    "   os.makedirs(input_dir+'val/rest_through/yolo/')\n",
    "\n",
    "copy_files(input_dir+'train/rest_through/yolo/',input_dir+'train/rest_compressed/yolo/')\n",
    "copy_files(input_dir+'val/rest_through/yolo/',input_dir+'val/rest_compressed/yolo/')"
   ],
   "metadata": {
    "collapsed": false,
    "pycharm": {
     "name": "#%%\n"
    }
   }
  },
  {
   "cell_type": "code",
   "execution_count": null,
   "outputs": [],
   "source": [
    "## Script convert Yolo to Coco:\n",
    "import globox\n",
    "yolo = globox.AnnotationSet.from_yolo_v5(\n",
    "    folder=input_dir+'train/rest_compressed/yolo/',\n",
    "    image_folder=input_dir+'train/rest_compressed/images/'\n",
    ")\n",
    "yolo.save_coco(path=input_dir+'train/rest_compressed/coco.json',label_to_id={'0':1,'1':2, '2':3, '3':4, '4':5},imageid_to_id = {key: value for key, value in zip(yolo.image_ids,\n",
    " [r for r in range(0,len(yolo.image_ids))])  })\n",
    "\n",
    "yolov = globox.AnnotationSet.from_yolo_v5(\n",
    "    folder=input_dir+'val/rest_compressed/yolo/',\n",
    "    image_folder=input_dir+'val/rest_compressed/images/'\n",
    ")\n",
    "yolov.save_coco(path=input_dir+'val/rest_compressed/coco.json',label_to_id={'0':1,'1':2, '2':3, '3':4, '4':5},imageid_to_id = {key: value for key, value in zip(yolov.image_ids,\n",
    " [r for r in range(0,len(yolov.image_ids))])  })\n",
    "\n",
    "\n",
    "import json\n",
    "def fix_categories(file,out):\n",
    "    with open(file,\"r\") as f:\n",
    "        data = json.load(f)\n",
    "    new_data = {}\n",
    "    new_data['info'] =   {\n",
    "    \"year\": \"2023\",\n",
    "    \"version\": \"1\",\n",
    "    \"description\": \"Created using globox\",\n",
    "    \"contributor\": \"atm\",\n",
    "    },\n",
    "    new_data['licenses'] =  [\n",
    "    {\n",
    "        \"id\": 1,\n",
    "        \"url\": \"https://creativecommons.org/licenses/by/4.0/\",\n",
    "        \"name\": \"CC BY 4.0\"\n",
    "    }\n",
    "    ]\n",
    "    new_data['categories'] = [\n",
    "    {\n",
    "        \"id\": 1,\n",
    "        \"name\": \"airport\",\n",
    "        \"supercategory\": \"objects\"\n",
    "    },\n",
    "    {\n",
    "        \"id\": 2,\n",
    "        \"name\": \"helicopter\",\n",
    "        \"supercategory\": \"objects\"\n",
    "    },\n",
    "    {\n",
    "        \"id\": 3,\n",
    "        \"name\": \"oiltank\",\n",
    "        \"supercategory\": \"objects\"\n",
    "    },\n",
    "    {\n",
    "        \"id\": 4,\n",
    "        \"name\": \"plane\",\n",
    "        \"supercategory\": \"objects\"\n",
    "    },\n",
    "    {\n",
    "        \"id\": 5,\n",
    "        \"name\": \"warship\",\n",
    "        \"supercategory\": \"objects\"\n",
    "    }\n",
    "    ]\n",
    "    new_data['images'] = data['images']\n",
    "    new_data['annotations'] = data['annotations']\n",
    "    with open(out,'w') as fout:\n",
    "        json.dump(new_data, fout , indent=4)\n",
    "\n",
    "fix_categories(input_dir+'train/rest_compressed/coco.json',input_dir+'train/rest_compressed/coco.json')\n",
    "fix_categories(input_dir+'val/rest_compressed/coco.json',input_dir+'val/rest_compressed/coco.json')"
   ],
   "metadata": {
    "collapsed": false,
    "pycharm": {
     "name": "#%%\n"
    }
   }
  },
  {
   "cell_type": "code",
   "execution_count": null,
   "outputs": [],
   "source": [
    "## Script convert Coco to voc:\n",
    "# create voc dir!\n",
    "if not os.path.exists(input_dir+'train/rest_compressed/voc/'):\n",
    "   os.makedirs(input_dir+'train/rest_compressed/voc/')\n",
    "if not os.path.exists(input_dir+'val/rest_compressed/voc/'):\n",
    "   os.makedirs(input_dir+'val/rest_compressed/voc/')\n",
    "\n",
    "from coco_to_voc import coco2voc\n",
    "\n",
    "coco2voc(input_dir+'train/rest_compressed/coco.json',input_dir+'train/rest_compressed/voc/',ext='.jpg')\n",
    "coco2voc(input_dir+'val/rest_compressed/coco.json',input_dir+'val/rest_compressed/voc/',ext='.jpg')"
   ],
   "metadata": {
    "collapsed": false,
    "pycharm": {
     "name": "#%%\n"
    }
   }
  },
  {
   "cell_type": "code",
   "execution_count": null,
   "outputs": [],
   "source": [
    "## Script to convert Coco to Yolified Coco\n",
    "\n",
    "from yolifycoco import yolifycoco\n",
    "\n",
    "yolifycoco(input_dir+'train/rest_compressed/coco.json',input_dir+'train/rest_compressed/cocoyolo.json',split='.jpg')\n",
    "yolifycoco(input_dir+'val/rest_compressed/coco.json',input_dir+'val/rest_compressed/cocoyolo.json',split='.jpg')"
   ],
   "metadata": {
    "collapsed": false,
    "pycharm": {
     "name": "#%%\n"
    }
   }
  },
  {
   "cell_type": "code",
   "execution_count": null,
   "outputs": [],
   "source": [
    "# Create Combi:\n",
    "if not os.path.exists(input_dir+'train/combi/images/'):\n",
    "   os.makedirs(input_dir+'train/combi/images/')\n",
    "if not os.path.exists(input_dir+'train/combi/yolo/'):\n",
    "   os.makedirs(input_dir+'train/combi/yolo/')\n",
    "if not os.path.exists(input_dir+'val/combi/images/'):\n",
    "   os.makedirs(input_dir+'val/combi/images/')\n",
    "if not os.path.exists(input_dir+'val/combi/yolo/'):\n",
    "   os.makedirs(input_dir+'val/combi/yolo/')\n",
    "\n",
    "\n",
    "link_files(input_dir+'train/rest_compressed/images/',input_dir+'train/combi/images/')\n",
    "link_files(input_dir+'train/backgrounds/images/',input_dir+'train/combi/images/')\n",
    "link_files(input_dir+'train/rest_compressed/yolo/',input_dir+'train/combi/yolo/')\n",
    "link_files(input_dir+'train/backgrounds/yolo/',input_dir+'train/combi/yolo/')\n",
    "\n",
    "\n",
    "link_files(input_dir+'val/rest_compressed/images/',input_dir+'val/combi/images/')\n",
    "link_files(input_dir+'val/backgrounds/images/',input_dir+'val/combi/images/')\n",
    "link_files(input_dir+'val/rest_compressed/yolo/',input_dir+'val/combi/yolo/')\n",
    "link_files(input_dir+'val/backgrounds/yolo/',input_dir+'val/combi/yolo/')\n",
    "\n",
    "print(\"Done\")"
   ],
   "metadata": {
    "collapsed": false,
    "pycharm": {
     "name": "#%%\n"
    }
   }
  },
  {
   "cell_type": "code",
   "execution_count": null,
   "outputs": [],
   "source": [
    "## Script combi convert Yolo to Coco:\n",
    "import globox\n",
    "yolo = globox.AnnotationSet.from_yolo_v5(\n",
    "    folder=input_dir+'train/combi/yolo/',\n",
    "    image_folder=input_dir+'train/combi/images/'\n",
    ")\n",
    "yolo.save_coco(path=input_dir+'train/combi/combi_coco.json',label_to_id={'0':1,'1':2, '2':3, '3':4, '4':5},imageid_to_id = {key: value for key, value in zip(yolo.image_ids,\n",
    " [r for r in range(0,len(yolo.image_ids))])  })\n",
    "\n",
    "yolov = globox.AnnotationSet.from_yolo_v5(\n",
    "    folder=input_dir+'val/combi/yolo/',\n",
    "    image_folder=input_dir+'val/combi/images/'\n",
    ")\n",
    "yolov.save_coco(path=input_dir+'val/combi/combi_coco.json',label_to_id={'0':1,'1':2, '2':3, '3':4, '4':5},imageid_to_id = {key: value for key, value in zip(yolov.image_ids,\n",
    " [r for r in range(0,len(yolov.image_ids))])  })\n",
    "\n",
    "\n",
    "import json\n",
    "def fix_categories(file,out):\n",
    "    with open(file,\"r\") as f:\n",
    "        data = json.load(f)\n",
    "    new_data = {}\n",
    "    new_data['info'] =   {\n",
    "    \"year\": \"2023\",\n",
    "    \"version\": \"1\",\n",
    "    \"description\": \"Created using globox\",\n",
    "    \"contributor\": \"atm\",\n",
    "    },\n",
    "    new_data['licenses'] =  [\n",
    "    {\n",
    "        \"id\": 1,\n",
    "        \"url\": \"https://creativecommons.org/licenses/by/4.0/\",\n",
    "        \"name\": \"CC BY 4.0\"\n",
    "    }\n",
    "    ]\n",
    "    new_data['categories'] = [\n",
    "    {\n",
    "        \"id\": 1,\n",
    "        \"name\": \"airport\",\n",
    "        \"supercategory\": \"objects\"\n",
    "    },\n",
    "    {\n",
    "        \"id\": 2,\n",
    "        \"name\": \"helicopter\",\n",
    "        \"supercategory\": \"objects\"\n",
    "    },\n",
    "    {\n",
    "        \"id\": 3,\n",
    "        \"name\": \"oiltank\",\n",
    "        \"supercategory\": \"objects\"\n",
    "    },\n",
    "    {\n",
    "        \"id\": 4,\n",
    "        \"name\": \"plane\",\n",
    "        \"supercategory\": \"objects\"\n",
    "    },\n",
    "    {\n",
    "        \"id\": 5,\n",
    "        \"name\": \"warship\",\n",
    "        \"supercategory\": \"objects\"\n",
    "    }\n",
    "    ]\n",
    "    new_data['images'] = data['images']\n",
    "    new_data['annotations'] = data['annotations']\n",
    "    with open(out,'w') as fout:\n",
    "        json.dump(new_data, fout , indent=4)\n",
    "\n",
    "fix_categories(input_dir+'train/combi/combi_coco.json',input_dir+'train/combi/combi_coco.json')\n",
    "fix_categories(input_dir+'val/combi/combi_coco.json',input_dir+'val/combi/combi_coco.json')\n",
    "\n"
   ],
   "metadata": {
    "collapsed": false,
    "pycharm": {
     "name": "#%%\n"
    }
   }
  },
  {
   "cell_type": "code",
   "execution_count": null,
   "outputs": [],
   "source": [
    "# Yolify combi COCO\n",
    "from yolifycoco import yolifycoco\n",
    "\n",
    "yolifycoco(input_dir+'train/combi/combi_coco.json',input_dir+'train/combi/combi_cocoyolo.json',split='.jpg')\n",
    "yolifycoco(input_dir+'val/combi/combi_coco.json',input_dir+'val/combi/combi_cocoyolo.json',split='.jpg')"
   ],
   "metadata": {
    "collapsed": false,
    "pycharm": {
     "name": "#%%\n"
    }
   }
  },
  {
   "cell_type": "code",
   "execution_count": null,
   "outputs": [],
   "source": [
    "#P0259"
   ],
   "metadata": {
    "collapsed": false,
    "pycharm": {
     "name": "#%%\n"
    }
   }
  },
  {
   "cell_type": "code",
   "execution_count": null,
   "outputs": [],
   "source": [],
   "metadata": {
    "collapsed": false,
    "pycharm": {
     "name": "#%%\n"
    }
   }
  },
  {
   "cell_type": "code",
   "execution_count": null,
   "outputs": [],
   "source": [],
   "metadata": {
    "collapsed": false,
    "pycharm": {
     "name": "#%%\n"
    }
   }
  },
  {
   "cell_type": "code",
   "execution_count": null,
   "outputs": [],
   "source": [],
   "metadata": {
    "collapsed": false,
    "pycharm": {
     "name": "#%%\n"
    }
   }
  },
  {
   "cell_type": "code",
   "execution_count": null,
   "outputs": [],
   "source": [],
   "metadata": {
    "collapsed": false,
    "pycharm": {
     "name": "#%%\n"
    }
   }
  }
 ],
 "metadata": {
  "kernelspec": {
   "display_name": "Python 3",
   "language": "python",
   "name": "python3"
  },
  "language_info": {
   "codemirror_mode": {
    "name": "ipython",
    "version": 2
   },
   "file_extension": ".py",
   "mimetype": "text/x-python",
   "name": "python",
   "nbconvert_exporter": "python",
   "pygments_lexer": "ipython2",
   "version": "2.7.6"
  }
 },
 "nbformat": 4,
 "nbformat_minor": 0
}