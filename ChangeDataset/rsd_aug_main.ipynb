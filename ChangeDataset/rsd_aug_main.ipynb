{
 "cells": [
  {
   "cell_type": "code",
   "execution_count": null,
   "outputs": [],
   "source": [
    "import os\n",
    "\n",
    "## Script convert Coco to Yolo:\n",
    "import globox\n",
    "\n",
    "\n",
    "yolo_train = globox.AnnotationSet.from_yolo_v5(\n",
    "    folder=\"input/rsd_aug/train/labels/yololabels\",\n",
    "    image_folder=\"input/rsd_aug/train/images\"\n",
    ")\n",
    "\n",
    "yolo_train.save_coco(path='output/aug/train/coco.json',label_to_id={'0':1,'1':2, '2':3, '3':4, '4':5},imageid_to_id = {key: value for key, value in zip(yolo_train.image_ids,\n",
    " [r for r in range(0,len(yolo_train.image_ids))])  })\n",
    "\n"
   ],
   "metadata": {
    "collapsed": false,
    "pycharm": {
     "name": "#%%\n"
    }
   }
  },
  {
   "cell_type": "code",
   "execution_count": null,
   "outputs": [],
   "source": [
    "import json\n",
    "def fix_categories(file,out):\n",
    "    with open(file,\"r\") as f:\n",
    "        data = json.load(f)\n",
    "    new_data = {}\n",
    "    new_data['info'] =   {\n",
    "    \"year\": \"2023\",\n",
    "    \"version\": \"1\",\n",
    "    \"description\": \"Created using globox\",\n",
    "    \"contributor\": \"atm\",\n",
    "    },\n",
    "    new_data['licenses'] =  [\n",
    "    {\n",
    "        \"id\": 1,\n",
    "        \"url\": \"https://creativecommons.org/licenses/by/4.0/\",\n",
    "        \"name\": \"CC BY 4.0\"\n",
    "    }\n",
    "    ]\n",
    "    new_data['categories'] = [\n",
    "    {\n",
    "        \"id\": 1,\n",
    "        \"name\": \"airport\",\n",
    "        \"supercategory\": \"objects\"\n",
    "    },\n",
    "    {\n",
    "        \"id\": 2,\n",
    "        \"name\": \"helicopter\",\n",
    "        \"supercategory\": \"objects\"\n",
    "    },\n",
    "    {\n",
    "        \"id\": 3,\n",
    "        \"name\": \"oiltank\",\n",
    "        \"supercategory\": \"objects\"\n",
    "    },\n",
    "    {\n",
    "        \"id\": 4,\n",
    "        \"name\": \"plane\",\n",
    "        \"supercategory\": \"objects\"\n",
    "    },\n",
    "    {\n",
    "        \"id\": 5,\n",
    "        \"name\": \"warship\",\n",
    "        \"supercategory\": \"objects\"\n",
    "    }\n",
    "    ]\n",
    "    new_data['images'] = data['images']\n",
    "    new_data['annotations'] = data['annotations']\n",
    "    with open(out,'w') as fout:\n",
    "        json.dump(new_data, fout , indent=4)\n",
    "\n",
    "fix_categories('output/aug/train/coco.json','output/aug/train/coco.json')\n"
   ],
   "metadata": {
    "collapsed": false,
    "pycharm": {
     "name": "#%%\n"
    }
   }
  },
  {
   "cell_type": "code",
   "execution_count": null,
   "outputs": [],
   "source": [
    "#Yolify the coco\n",
    "from yolifycoco import yolifycoco\n",
    "\n",
    "train_coco_path = 'output/aug/train/coco.json'\n",
    "\n",
    "train_coco_yolo_path = 'output/aug/train/cocoyolo.json'\n",
    "\n",
    "yolifycoco(train_coco_path,train_coco_yolo_path,'.jpg')"
   ],
   "metadata": {
    "collapsed": false,
    "pycharm": {
     "name": "#%%\n"
    }
   }
  },
  {
   "cell_type": "code",
   "execution_count": null,
   "outputs": [],
   "source": [
    "## Script convert Coco to voc:\n",
    "from coco_to_voc import coco2vocrsd\n",
    "train_coco_path = 'output/aug/train/coco.json'\n",
    "\n",
    "voc_train_path = 'output/aug/train/voc'\n",
    "\n",
    "coco2vocrsd(train_coco_path,voc_train_path)"
   ],
   "metadata": {
    "collapsed": false,
    "pycharm": {
     "name": "#%%\n"
    }
   }
  },
  {
   "cell_type": "code",
   "execution_count": null,
   "outputs": [],
   "source": [],
   "metadata": {
    "collapsed": false,
    "pycharm": {
     "name": "#%%\n"
    }
   }
  },
  {
   "cell_type": "code",
   "execution_count": null,
   "outputs": [],
   "source": [],
   "metadata": {
    "collapsed": false,
    "pycharm": {
     "name": "#%%\n"
    }
   }
  }
 ],
 "metadata": {
  "kernelspec": {
   "display_name": "Python 3",
   "language": "python",
   "name": "python3"
  },
  "language_info": {
   "codemirror_mode": {
    "name": "ipython",
    "version": 2
   },
   "file_extension": ".py",
   "mimetype": "text/x-python",
   "name": "python",
   "nbconvert_exporter": "python",
   "pygments_lexer": "ipython2",
   "version": "2.7.6"
  }
 },
 "nbformat": 4,
 "nbformat_minor": 0
}