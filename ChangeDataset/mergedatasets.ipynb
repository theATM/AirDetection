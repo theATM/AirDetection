{
 "cells": [
  {
   "cell_type": "code",
   "execution_count": null,
   "metadata": {
    "collapsed": true,
    "pycharm": {
     "name": "#%%\n"
    }
   },
   "outputs": [],
   "source": [
    "import json\n",
    "\n",
    "# merge coco (yolofied) labels rom both datasets\n",
    "rsd_labels = ['./input/train/instances_train.json','input/val/instances_val.json']\n",
    "dota_labels = ['./input/train/labels_cocoyolo.json','input/val/labels_cocoyolo.json']\n",
    "\n",
    "save_files  = ['./output/train/instances_merged.json','output/val/instances_merged.json']\n",
    "\n",
    "for rsd_label, dota_label, save_file in zip(rsd_labels,dota_labels,save_files):\n",
    "    # Opening JSON files\n",
    "    rsd_f = open(rsd_label)\n",
    "    dota_f = open(dota_label)\n",
    "\n",
    "    rsddata = json.load(rsd_f)\n",
    "    dotadata = json.load(dota_f)\n",
    "\n",
    "    rsddata['annotations'].extend(dotadata['annotations'])\n",
    "    rsddata['images'].extend(dotadata['images'])\n",
    "\n",
    "    # Save to the new file\n",
    "    with open(save_file, 'w') as f:\n",
    "        json.dump(rsddata, f, indent=4)\n",
    "\n",
    "print(\"done\")"
   ]
  },
  {
   "cell_type": "code",
   "execution_count": null,
   "outputs": [],
   "source": [],
   "metadata": {
    "collapsed": false,
    "pycharm": {
     "name": "#%%\n"
    }
   }
  }
 ],
 "metadata": {
  "kernelspec": {
   "display_name": "Python 3",
   "language": "python",
   "name": "python3"
  },
  "language_info": {
   "codemirror_mode": {
    "name": "ipython",
    "version": 2
   },
   "file_extension": ".py",
   "mimetype": "text/x-python",
   "name": "python",
   "nbconvert_exporter": "python",
   "pygments_lexer": "ipython2",
   "version": "2.7.6"
  }
 },
 "nbformat": 4,
 "nbformat_minor": 0
}