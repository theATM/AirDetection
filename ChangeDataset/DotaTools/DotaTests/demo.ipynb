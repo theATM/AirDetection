{
 "cells": [
  {
   "cell_type": "markdown",
   "metadata": {
    "collapsed": true,
    "pycharm": {
     "name": "#%% md\n"
    }
   },
   "source": [
    "# Usage for parse ground truth file and show\n",
    "This is a demo for parse, visulize and split the data, the demo use the data in example folder,\n",
    "but the folder does not neccessaryly include all the categories."
   ]
  },
  {
   "cell_type": "code",
   "execution_count": null,
   "metadata": {
    "collapsed": true,
    "pycharm": {
     "name": "#%%\n"
    }
   },
   "outputs": [],
   "source": [
    "%matplotlib inline\n",
    "import numpy as np\n",
    "import matplotlib.pyplot as plt\n",
    "import os\n",
    "from DOTA import DOTA\n",
    "import DotaTools.dota_utils as util\n",
    "import pylab\n",
    "pylab.rcParams['figure.figsize'] = (20.0, 20.0)\n"
   ]
  },
  {
   "cell_type": "code",
   "execution_count": null,
   "metadata": {
    "collapsed": true,
    "pycharm": {
     "name": "#%%\n"
    }
   },
   "outputs": [],
   "source": [
    "example = DOTA('example')"
   ]
  },
  {
   "cell_type": "code",
   "execution_count": null,
   "metadata": {
    "pycharm": {
     "name": "#%%\n"
    }
   },
   "outputs": [],
   "source": [
    "imgids = example.getImgIds(catNms=['ship', 'storage-tank'])\n",
    "imgid = imgids[0]\n",
    "img = example.loadImgs(imgid)[0]"
   ]
  },
  {
   "cell_type": "code",
   "execution_count": null,
   "metadata": {
    "pycharm": {
     "name": "#%%\n"
    }
   },
   "outputs": [],
   "source": [
    "plt.axis('off')\n",
    "\n",
    "plt.imshow(img)\n",
    "plt.show()"
   ]
  },
  {
   "cell_type": "code",
   "execution_count": null,
   "metadata": {
    "pycharm": {
     "name": "#%%\n"
    }
   },
   "outputs": [],
   "source": [
    "anns = example.loadAnns(imgId=imgid)\n",
    "# print(anns)\n",
    "example.showAnns(anns, imgid, 2)"
   ]
  },
  {
   "cell_type": "markdown",
   "metadata": {
    "pycharm": {
     "name": "#%% md\n"
    }
   },
   "source": [
    "## Split Image And Label\n",
    "We provide the scale param before split the images and labels.\n",
    "Sometimes, the instance is too large that it can be easily cut down(for example, ground track filed), in such case you need to set the param \"rate\" less than 1.\n",
    "\n",
    "Before going on, first create folder to store the split data\n",
    "```\n",
    "  mkdir examplesplit\n",
    "  mkdir examplesplit/images\n",
    "  mkdir examplesplit/labelTxt\n",
    "```\n",
    "For test images, you only need to split images, refer to \"SplitOnlyImage.py\""
   ]
  },
  {
   "cell_type": "code",
   "execution_count": null,
   "metadata": {
    "collapsed": true,
    "pycharm": {
     "name": "#%%\n"
    }
   },
   "outputs": [],
   "source": [
    "from ImgSplit import splitbase"
   ]
  },
  {
   "cell_type": "code",
   "execution_count": null,
   "metadata": {
    "collapsed": true,
    "pycharm": {
     "name": "#%%\n"
    }
   },
   "outputs": [],
   "source": [
    "split = splitbase(r'example', \n",
    "                 r'examplesplit', choosebestpoint=True)\n",
    "split.splitdata(0.5)\n",
    "split.splitdata(1)\n",
    "split.splitdata(2)"
   ]
  },
  {
   "cell_type": "code",
   "execution_count": null,
   "metadata": {
    "collapsed": true,
    "pycharm": {
     "name": "#%%\n"
    }
   },
   "outputs": [],
   "source": [
    "examplesplit = DOTA('examplesplit')"
   ]
  },
  {
   "cell_type": "code",
   "execution_count": null,
   "metadata": {
    "pycharm": {
     "name": "#%%\n"
    }
   },
   "outputs": [],
   "source": [
    "imgids = examplesplit.getImgIds(catNms=['plane'])\n",
    "imgid = imgids[1]\n",
    "img = examplesplit.loadImgs(imgid)[0]"
   ]
  },
  {
   "cell_type": "code",
   "execution_count": null,
   "metadata": {
    "pycharm": {
     "name": "#%%\n"
    }
   },
   "outputs": [],
   "source": [
    "plt.axis('off')\n",
    "\n",
    "plt.imshow(img)\n",
    "plt.show()"
   ]
  },
  {
   "cell_type": "code",
   "execution_count": null,
   "metadata": {
    "pycharm": {
     "name": "#%%\n"
    }
   },
   "outputs": [],
   "source": [
    "anns = examplesplit.loadAnns(imgId=imgid)\n",
    "# print(anns)\n",
    "examplesplit.showAnns(anns, imgid, 2)"
   ]
  },
  {
   "cell_type": "markdown",
   "metadata": {
    "pycharm": {
     "name": "#%% md\n"
    }
   },
   "source": [
    "## Merge patches\n",
    "Now, we will merge these patches to see if they can be restored in the initial large images"
   ]
  },
  {
   "cell_type": "code",
   "execution_count": null,
   "metadata": {
    "collapsed": true,
    "pycharm": {
     "name": "#%%\n"
    }
   },
   "outputs": [],
   "source": [
    "from ResultMerge import mergebypoly"
   ]
  },
  {
   "cell_type": "code",
   "execution_count": null,
   "metadata": {
    "pycharm": {
     "name": "#%%\n"
    }
   },
   "outputs": [],
   "source": [
    "util.groundtruth2Task1(r'examplesplit/labelTxt',\n",
    "                      r'Task1')\n",
    "mergebypoly(r'Task1',\n",
    "           r'Task1_merge')\n",
    "util.Task2groundtruth_poly(r'Task1_merge',\n",
    "                          r'restoredexample/labelTxt')"
   ]
  },
  {
   "cell_type": "code",
   "execution_count": null,
   "metadata": {
    "pycharm": {
     "name": "#%%\n"
    }
   },
   "outputs": [],
   "source": [
    "filepath = 'example/labelTxt'\n",
    "imgids = util.GetFileFromThisRootDir(filepath)\n",
    "imgids = [util.custombasename(x) for x in imgids]\n",
    "print(imgids)"
   ]
  },
  {
   "cell_type": "code",
   "execution_count": null,
   "metadata": {
    "pycharm": {
     "name": "#%%\n"
    }
   },
   "outputs": [],
   "source": [
    "example = DOTA(r'example')\n",
    "num = 2\n",
    "anns = example.loadAnns(imgId=imgids[num])\n",
    "# print(anns)\n",
    "example.showAnns(anns, imgids[num], 2)"
   ]
  },
  {
   "cell_type": "code",
   "execution_count": null,
   "metadata": {
    "pycharm": {
     "name": "#%%\n"
    }
   },
   "outputs": [],
   "source": [
    "restored = DOTA(r'restoredexample')\n",
    "num = 2\n",
    "anns = restored.loadAnns(imgId=imgids[num])\n",
    "# print(anns)\n",
    "restored.showAnns(anns, imgids[num], 2)"
   ]
  }
 ],
 "metadata": {
  "kernelspec": {
   "display_name": "Python 3",
   "language": "python",
   "name": "python3"
  },
  "language_info": {
   "codemirror_mode": {
    "name": "ipython",
    "version": 3
   },
   "file_extension": ".py",
   "mimetype": "text/x-python",
   "name": "python",
   "nbconvert_exporter": "python",
   "pygments_lexer": "ipython3",
   "version": "3.5.3"
  }
 },
 "nbformat": 4,
 "nbformat_minor": 1
}