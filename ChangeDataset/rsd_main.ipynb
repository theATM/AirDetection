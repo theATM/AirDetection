{
 "cells": [
  {
   "cell_type": "code",
   "execution_count": null,
   "outputs": [],
   "source": [
    "import os\n",
    "\n",
    "## Script convert Coco to Yolo:\n",
    "import globox\n",
    "\n",
    "\n",
    "yolo_train = globox.AnnotationSet.from_yolo_v5(\n",
    "    folder=\"input/rsd_god/train/labels/yololabels\",\n",
    "    image_folder=\"input/rsd_god/train/images\"\n",
    ")\n",
    "yolo_test = globox.AnnotationSet.from_yolo_v5(\n",
    "    folder=\"input/rsd_god/test/labels/yololabels\",\n",
    "    image_folder=\"input/rsd_god/test/images\"\n",
    ")\n",
    "yolo_val = globox.AnnotationSet.from_yolo_v5(\n",
    "    folder=\"input/rsd_god/valid/labels/yololabels\",\n",
    "    image_folder=\"input/rsd_god/valid/images\"\n",
    ")\n",
    "yolo_train.save_coco(path='output/rsd/train/coco.json',label_to_id={'0':1,'1':2, '2':3, '3':4, '4':5},imageid_to_id = {key: value for key, value in zip(yolo_train.image_ids,\n",
    " [r for r in range(0,len(yolo_train.image_ids))])  })\n",
    "\n",
    "yolo_val.save_coco(path='output/rsd/val/coco.json',label_to_id={'0':1,'1':2, '2':3, '3':4, '4':5},imageid_to_id = {key: value for key, value in zip(yolo_val.image_ids,\n",
    " [r for r in range(0,len(yolo_val.image_ids))])  })\n",
    "\n",
    "yolo_test.save_coco(path='output/rsd/test/coco.json',label_to_id={'0':1,'1':2, '2':3, '3':4, '4':5}, imageid_to_id = {key: value for key, value in zip(yolo_test.image_ids,\n",
    " [r for r in range(0,len(yolo_test.image_ids))])  })\n"
   ],
   "metadata": {
    "collapsed": false,
    "pycharm": {
     "name": "#%%\n"
    }
   }
  },
  {
   "cell_type": "code",
   "execution_count": null,
   "outputs": [],
   "source": [
    "import json\n",
    "def fix_categories(file,out):\n",
    "    with open(file,\"r\") as f:\n",
    "        data = json.load(f)\n",
    "    new_data = {}\n",
    "    new_data['info'] =   {\n",
    "    \"year\": \"2023\",\n",
    "    \"version\": \"1\",\n",
    "    \"description\": \"Created using globox\",\n",
    "    \"contributor\": \"atm\",\n",
    "    },\n",
    "    new_data['licenses'] =  [\n",
    "    {\n",
    "        \"id\": 1,\n",
    "        \"url\": \"https://creativecommons.org/licenses/by/4.0/\",\n",
    "        \"name\": \"CC BY 4.0\"\n",
    "    }\n",
    "    ]\n",
    "    new_data['categories'] = [\n",
    "    {\n",
    "        \"id\": 1,\n",
    "        \"name\": \"airport\",\n",
    "        \"supercategory\": \"objects\"\n",
    "    },\n",
    "    {\n",
    "        \"id\": 2,\n",
    "        \"name\": \"helicopter\",\n",
    "        \"supercategory\": \"objects\"\n",
    "    },\n",
    "    {\n",
    "        \"id\": 3,\n",
    "        \"name\": \"oiltank\",\n",
    "        \"supercategory\": \"objects\"\n",
    "    },\n",
    "    {\n",
    "        \"id\": 4,\n",
    "        \"name\": \"plane\",\n",
    "        \"supercategory\": \"objects\"\n",
    "    },\n",
    "    {\n",
    "        \"id\": 5,\n",
    "        \"name\": \"warship\",\n",
    "        \"supercategory\": \"objects\"\n",
    "    }\n",
    "    ]\n",
    "    new_data['images'] = data['images']\n",
    "    new_data['annotations'] = data['annotations']\n",
    "    with open(out,'w') as fout:\n",
    "        json.dump(new_data, fout , indent=4)\n",
    "\n",
    "fix_categories('output/rsd/train/coco.json','output/rsd/train/coco.json')\n",
    "fix_categories('output/rsd/val/coco.json','output/rsd/val/coco.json')\n",
    "fix_categories('output/rsd/test/coco.json','output/rsd/test/coco.json')"
   ],
   "metadata": {
    "collapsed": false,
    "pycharm": {
     "name": "#%%\n"
    }
   }
  },
  {
   "cell_type": "code",
   "execution_count": null,
   "outputs": [],
   "source": [
    "#Yolify the coco\n",
    "from yolifycoco import yolifycoco\n",
    "\n",
    "train_coco_path = 'output/rsd/train/coco.json'\n",
    "val_coco_path =   'output/rsd/val/coco.json'\n",
    "test_coco_path =  'output/rsd/test/coco.json'\n",
    "\n",
    "train_coco_yolo_path = 'output/rsd/train/cocoyolo.json'\n",
    "val_coco_yolo_path =   'output/rsd/val/cocoyolo.json'\n",
    "test_coco_yolo_path =  'output/rsd/test/cocoyolo.json'\n",
    "\n",
    "yolifycoco(train_coco_path,train_coco_yolo_path,'.jpg')\n",
    "yolifycoco(val_coco_path,val_coco_yolo_path,'.jpg')\n",
    "yolifycoco(test_coco_path,test_coco_yolo_path,'.jpg')"
   ],
   "metadata": {
    "collapsed": false,
    "pycharm": {
     "name": "#%%\n"
    }
   }
  },
  {
   "cell_type": "code",
   "execution_count": null,
   "outputs": [],
   "source": [
    "## Script convert Coco to voc:\n",
    "from coco_to_voc import coco2vocrsd\n",
    "train_coco_path = 'output/rsd/train/coco.json'\n",
    "val_coco_path = 'output/rsd/val/coco.json'\n",
    "test_coco_path = 'output/rsd/test/coco.json'\n",
    "\n",
    "voc_train_path = 'output/rsd/train/voc'\n",
    "voc_val_path = 'output/rsd/val/voc'\n",
    "voc_test_path = 'output/rsd/test/voc'\n",
    "\n",
    "coco2vocrsd(train_coco_path,voc_train_path)\n",
    "coco2vocrsd(val_coco_path,voc_val_path)\n",
    "coco2vocrsd(test_coco_path,voc_test_path)"
   ],
   "metadata": {
    "collapsed": false,
    "pycharm": {
     "name": "#%%\n"
    }
   }
  },
  {
   "cell_type": "code",
   "execution_count": null,
   "outputs": [],
   "source": [],
   "metadata": {
    "collapsed": false,
    "pycharm": {
     "name": "#%%\n"
    }
   }
  },
  {
   "cell_type": "code",
   "execution_count": null,
   "outputs": [],
   "source": [],
   "metadata": {
    "collapsed": false,
    "pycharm": {
     "name": "#%%\n"
    }
   }
  }
 ],
 "metadata": {
  "kernelspec": {
   "display_name": "Python 3",
   "language": "python",
   "name": "python3"
  },
  "language_info": {
   "codemirror_mode": {
    "name": "ipython",
    "version": 2
   },
   "file_extension": ".py",
   "mimetype": "text/x-python",
   "name": "python",
   "nbconvert_exporter": "python",
   "pygments_lexer": "ipython2",
   "version": "2.7.6"
  }
 },
 "nbformat": 4,
 "nbformat_minor": 0
}